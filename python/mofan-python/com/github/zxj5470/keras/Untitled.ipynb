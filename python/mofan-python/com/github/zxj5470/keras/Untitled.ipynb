{
 "cells": [
  {
   "cell_type": "code",
   "execution_count": 1,
   "metadata": {},
   "outputs": [
    {
     "name": "stderr",
     "output_type": "stream",
     "text": [
      "Using Theano backend.\n"
     ]
    },
    {
     "name": "stdout",
     "output_type": "stream",
     "text": [
      "Traning…………\n",
      "Epoch 1/2\n",
      "60000/60000 [==============================] - 724s 12ms/step - loss: 0.2196 - acc: 0.9363\n",
      "Epoch 2/2\n",
      "60000/60000 [==============================] - 755s 13ms/step - loss: 0.0707 - acc: 0.9793\n",
      "Testing…………\n",
      "10000/10000 [==============================] - 20s 2ms/step\n",
      "test loss:  0.0449917348941\n",
      "test accuracy:  0.9856\n"
     ]
    }
   ],
   "source": [
    "\"\"\"\n",
    "分类\n",
    "\"\"\"\n",
    "import numpy as np\n",
    "from keras.datasets import mnist\n",
    "from keras.utils import np_utils\n",
    "from keras.models import Sequential\n",
    "from keras.layers import Dense, Activation, Convolution2D, MaxPooling2D, Flatten\n",
    "from keras.optimizers import Adam\n",
    "\n",
    "np.random.seed(1337)  # for reproducibility\n",
    "\n",
    "Array = np.ndarray\n",
    "(X_train, y_train), (X_test, y_test) = mnist.load_data()\n",
    "\n",
    "X_train: Array = X_train\n",
    "y_train: Array = y_train\n",
    "X_test: Array = X_test\n",
    "y_train: Array = y_train\n",
    "\n",
    "# 特征标准化\n",
    "# 长宽28\n",
    "X_train = X_train.reshape(-1, 1, 28, 28) / 255  # normalize\n",
    "X_test = X_test.reshape(-1, 1, 28, 28) / 255  # normalize\n",
    "y_train = np_utils.to_categorical(y_train, num_classes=10)\n",
    "y_test = np_utils.to_categorical(y_test, num_classes=10)\n",
    "\n",
    "# 构建神经网络\n",
    "# X shape (60,000 28x28)\n",
    "model = Sequential()\n",
    "model.add(Convolution2D(\n",
    "    batch_input_shape=(None, 1, 28, 28),\n",
    "    filters=32,\n",
    "    kernel_size=5,\n",
    "    strides=1,\n",
    "    padding='same',  # Padding method\n",
    "    data_format='channels_first')\n",
    ")\n",
    "model.add(Activation('relu'))\n",
    "\n",
    "# Pooling 池化\n",
    "model.add(MaxPooling2D(\n",
    "    pool_size=(2, 2),\n",
    "    strides=(2, 2),\n",
    "    padding='same',  # padding method\n",
    "))\n",
    "\n",
    "# Convolution2D 2\n",
    "model.add(Convolution2D(64, 5, strides=1, padding='same', data_format='channels_first'))\n",
    "model.add(Activation('relu'))\n",
    "\n",
    "# Pooling 2\n",
    "model.add(MaxPooling2D(pool_size=(2, 2), padding='same'))\n",
    "\n",
    "# Fully connected\n",
    "model.add(Flatten())\n",
    "model.add(Dense(1024))\n",
    "model.add(Activation('relu'))\n",
    "\n",
    "# Fully connected 2\n",
    "model.add(Dense(10))  # 照片分类十个\n",
    "model.add(Activation('softmax'))\n",
    "\n",
    "adam = Adam(lr=1e-4)\n",
    "model.compile(optimizer=adam,\n",
    "              loss='categorical_crossentropy',\n",
    "              metrics=['accuracy'])\n",
    "# train\n",
    "print(\"Traning…………\")\n",
    "model.fit(X_train, y_train, epochs=2, batch_size=32)\n",
    "\n",
    "# test\n",
    "print(\"Testing…………\")\n",
    "loss, accuracy = model.evaluate(X_test, y_test)\n",
    "\n",
    "print(\"test loss: \", loss)\n",
    "print(\"test accuracy: \", accuracy)"
   ]
  },
  {
   "cell_type": "code",
   "execution_count": null,
   "metadata": {},
   "outputs": [],
   "source": []
  }
 ],
 "metadata": {
  "kernelspec": {
   "display_name": "Python 3",
   "language": "python",
   "name": "python3"
  },
  "language_info": {
   "codemirror_mode": {
    "name": "ipython",
    "version": 3
   },
   "file_extension": ".py",
   "mimetype": "text/x-python",
   "name": "python",
   "nbconvert_exporter": "python",
   "pygments_lexer": "ipython3",
   "version": "3.6.3"
  }
 },
 "nbformat": 4,
 "nbformat_minor": 2
}
